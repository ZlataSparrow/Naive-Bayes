{
 "cells": [
  {
   "cell_type": "markdown",
   "id": "838ff846",
   "metadata": {},
   "source": [
    "# Hybrid Naive Bayes: Leveraging Demographics for Smarter Recommendations\n",
    "\n",
    "This notebook takes recommendation systems to the next level by incorporating **demographic data** and **movie genres** alongside rating patterns—the hybrid approach powering modern recommendation engines.\n",
    "\n",
    "## The Evolution from Basic to Hybrid Recommendation\n",
    "\n",
    "**Basic Recommendation** (Notebook 2):\n",
    "- \"Users who liked this also liked that\" (collaborative filtering)\n",
    "- Works great for popular movies\n",
    "- Breaks down for new users or niche movies\n",
    "\n",
    "**Hybrid Recommendation** (This Notebook):\n",
    "- Combines collaborative filtering with content-based filtering\n",
    "- Uses demographic data: age, gender, occupation\n",
    "- Incorporates movie metadata: genres, themes\n",
    "- Better for cold-start problems and long-tail items\n",
    "\n",
    "## Real-World Applications\n",
    "\n",
    "Companies use hybrid approaches for:\n",
    "- **Netflix**: Combines viewing history + demographics (\"We recommend based on viewers like you\")\n",
    "- **Amazon**: Ratings + product categories + user demographics\n",
    "- **LinkedIn**: Skills + industry + role + connections\n",
    "- **Dating Apps**: Demographics + preferences + behavior\n",
    "\n",
    "## Why This Matters for Business\n",
    "\n",
    "### The Cold-Start Problem\n",
    "**Scenario**: New user signs up to your platform\n",
    "- They've rated 0 movies → collaborative filtering fails\n",
    "- But you know: they're 25 years old, work in tech, live in SF\n",
    "- Solution: Use demographics to make reasonable predictions\n",
    "\n",
    "### The Long-Tail Problem\n",
    "**Scenario**: Indie movie with only 50 ratings\n",
    "- Collaborative filtering fails (not enough data)\n",
    "- But you know: it's sci-fi, rated by young professionals\n",
    "- Solution: Use genre + demographics to find similar tastes\n",
    "\n",
    "### Business Impact\n",
    "\n",
    "**Monetary Value**:\n",
    "- Netflix estimates recommendation improvements saved $1B annually by reducing churn\n",
    "- Spotify's discovery features drive 60% of new user engagement\n",
    "- Amazon's recommendations account for 35% of revenue\n",
    "\n",
    "This hybrid approach is how you solve these problems at scale.\n"
   ]
  },
  {
   "cell_type": "code",
   "execution_count": 49,
   "id": "4caf234f",
   "metadata": {},
   "outputs": [],
   "source": [
    "import numpy as np\n",
    "import pandas as pd\n",
    "import matplotlib.pyplot as plt"
   ]
  },
  {
   "cell_type": "markdown",
   "id": "8be402e2",
   "metadata": {},
   "source": [
    "## Section I: Loading Multiple Data Sources\n",
    "\n",
    "We're now working with **3 separate datasets** that we'll merge into a unified model:\n",
    "1. **Users**: Demographics (age, gender, occupation, zip)\n",
    "2. **Movies**: Metadata (title, genres)\n",
    "3. **Ratings**: User behavior (actual ratings)\n",
    "\n",
    "This multi-source approach mirrors how production systems ingest data from databases, APIs, and event streams.\n",
    "\n",
    "### Why Multiple Data Sources?\n",
    "\n",
    "**The Power of Feature Engineering**:\n",
    "- **Ratings alone**: \"User A likes sci-fi movies\"\n",
    "- **Ratings + Demographics**: \"Female 25-year-old engineers like sci-fi\"\n",
    "- **Ratings + Demographics + Genres**: \"Female 25-year-old engineers like sci-fi thrillers but not sci-fi comedies\"\n",
    "\n",
    "Each additional data source **reduces uncertainty** and **improves predictions**.\n",
    "\n",
    "### Real-World Parallel\n",
    "\n",
    "This is exactly how LinkedIn builds their \"People You May Know\":\n",
    "- **Connections**: Who your friends know\n",
    "- **Demographics**: Same company, same school, same city\n",
    "- **Behavior**: Pages viewed, content engaged with\n",
    "\n",
    "Each signal makes the recommendation more accurate.\n"
   ]
  },
  {
   "cell_type": "markdown",
   "id": "63711e1a",
   "metadata": {},
   "source": [
    "### I. Load Data"
   ]
  },
  {
   "cell_type": "code",
   "execution_count": 50,
   "id": "850e28c8",
   "metadata": {},
   "outputs": [],
   "source": [
    "import os\n",
    "import pandas as pd\n",
    "\n",
    "project_root = os.path.abspath(os.path.join(os.getcwd(), os.pardir))\n",
    "data_path = os.path.join(project_root, 'data')\n",
    "\n",
    "users_path = os.path.join(data_path, 'users.dat')\n",
    "movies_path = os.path.join(data_path, 'movies.dat')\n",
    "ratings_path = os.path.join(data_path, 'ratings.dat')\n",
    "\n",
    "users = pd.read_csv(users_path, sep='::', header=None, engine='python', encoding='ISO-8859-1')\n",
    "movies = pd.read_csv(movies_path, sep='::', header=None, engine='python', encoding='ISO-8859-1')\n",
    "ratings = pd.read_csv(ratings_path, sep='::', header=None, engine='python', encoding='ISO-8859-1')"
   ]
  },
  {
   "cell_type": "code",
   "execution_count": 51,
   "id": "8a391d0b",
   "metadata": {},
   "outputs": [
    {
     "name": "stdout",
     "output_type": "stream",
     "text": [
      "   user_id gender  age  occupation zip_code\n",
      "0        1      F    1          10    48067\n",
      "1        2      M   56          16    70072\n",
      "2        3      M   25          15    55117\n",
      "3        4      M   45           7    02460\n",
      "4        5      M   25          20    55455\n"
     ]
    }
   ],
   "source": [
    "users.columns = ['user_id', 'gender', 'age', 'occupation', 'zip_code']\n",
    "print(users.head())"
   ]
  },
  {
   "cell_type": "code",
   "execution_count": 52,
   "id": "73e2b166",
   "metadata": {},
   "outputs": [
    {
     "name": "stdout",
     "output_type": "stream",
     "text": [
      "   movie_id                               title                        genres\n",
      "0         1                    Toy Story (1995)   Animation|Children's|Comedy\n",
      "1         2                      Jumanji (1995)  Adventure|Children's|Fantasy\n",
      "2         3             Grumpier Old Men (1995)                Comedy|Romance\n",
      "3         4            Waiting to Exhale (1995)                  Comedy|Drama\n",
      "4         5  Father of the Bride Part II (1995)                        Comedy\n"
     ]
    }
   ],
   "source": [
    "movies.columns = ['movie_id', 'title', 'genres']\n",
    "print(movies.head())"
   ]
  },
  {
   "cell_type": "code",
   "execution_count": 53,
   "id": "787d75a4",
   "metadata": {},
   "outputs": [
    {
     "name": "stdout",
     "output_type": "stream",
     "text": [
      "   user_id  movie_id  rating  timestamp\n",
      "0        1      1193       5  978300760\n",
      "1        1       661       3  978302109\n",
      "2        1       914       3  978301968\n",
      "3        1      3408       4  978300275\n",
      "4        1      2355       5  978824291\n"
     ]
    }
   ],
   "source": [
    "ratings.columns = ['user_id', 'movie_id', 'rating', 'timestamp']\n",
    "print(ratings.head())"
   ]
  },
  {
   "cell_type": "markdown",
   "id": "2c922ab4",
   "metadata": {},
   "source": [
    "## Section II: Merging User Demographics with Ratings\n",
    "\n",
    "We're combining **behavioral data** (ratings) with **demographic data** (age, gender, occupation) to create a richer feature set.\n",
    "\n",
    "### The Strategic Advantage\n",
    "\n",
    "**Why Demographics Matter**:\n",
    "- **Gender**: Romance films rated higher by women; action films rated higher by men\n",
    "- **Age**: Nostalgia drives ratings (Gen X rates 80s movies higher)\n",
    "- **Occupation**: Students have different tastes than executives\n",
    "\n",
    "### Business Application: Personalization at Scale\n",
    "\n",
    "Consider **Amazon's recommendation strategy**:\n",
    "1. Analyze your purchase history (like ratings)\n",
    "2. Identify your demographic segment\n",
    "3. Learn: \"Young professionals in tech prefer X\"\n",
    "4. Recommend: \"People like you bought...\"\n",
    "\n",
    "This is **segmentation + collaborative filtering**—exactly what we're building.\n",
    "\n",
    "### Data Quality Check\n",
    "\n",
    "We're checking for:\n",
    "- **Null values**: Missing data breaks models\n",
    "- **Unique counts**: Understanding feature cardinality\n",
    "- **Data consistency**: Ensuring clean merges\n",
    "\n",
    "This validation step is **critical in production**—bad data → bad predictions → lost customers.\n"
   ]
  },
  {
   "cell_type": "code",
   "execution_count": 54,
   "id": "f8887d24",
   "metadata": {},
   "outputs": [
    {
     "data": {
      "text/html": [
       "<div>\n",
       "<style scoped>\n",
       "    .dataframe tbody tr th:only-of-type {\n",
       "        vertical-align: middle;\n",
       "    }\n",
       "\n",
       "    .dataframe tbody tr th {\n",
       "        vertical-align: top;\n",
       "    }\n",
       "\n",
       "    .dataframe thead th {\n",
       "        text-align: right;\n",
       "    }\n",
       "</style>\n",
       "<table border=\"1\" class=\"dataframe\">\n",
       "  <thead>\n",
       "    <tr style=\"text-align: right;\">\n",
       "      <th></th>\n",
       "      <th>movie_id</th>\n",
       "      <th>title</th>\n",
       "      <th>genres</th>\n",
       "    </tr>\n",
       "  </thead>\n",
       "  <tbody>\n",
       "    <tr>\n",
       "      <th>1176</th>\n",
       "      <td>1193</td>\n",
       "      <td>One Flew Over the Cuckoo's Nest (1975)</td>\n",
       "      <td>Drama</td>\n",
       "    </tr>\n",
       "  </tbody>\n",
       "</table>\n",
       "</div>"
      ],
      "text/plain": [
       "      movie_id                                   title genres\n",
       "1176      1193  One Flew Over the Cuckoo's Nest (1975)  Drama"
      ]
     },
     "execution_count": 54,
     "metadata": {},
     "output_type": "execute_result"
    }
   ],
   "source": [
    "movies[movies['movie_id'] == 1193]\n"
   ]
  },
  {
   "cell_type": "markdown",
   "id": "e4274af2",
   "metadata": {},
   "source": [
    "### II. Preparing the data"
   ]
  },
  {
   "cell_type": "code",
   "execution_count": 55,
   "id": "871f7db9",
   "metadata": {},
   "outputs": [
    {
     "name": "stdout",
     "output_type": "stream",
     "text": [
      "Number of users: 6040\n",
      "Number of movies: 3883\n",
      "Number of genres: 301\n"
     ]
    }
   ],
   "source": [
    "# how many?\n",
    "n_users = users['user_id'].nunique()\n",
    "n_movies = movies['movie_id'].nunique()\n",
    "n_genres = movies['genres'].nunique()\n",
    "print(f\"Number of users: {n_users}\")\n",
    "print(f\"Number of movies: {n_movies}\")\n",
    "print(f\"Number of genres: {n_genres}\")"
   ]
  },
  {
   "cell_type": "code",
   "execution_count": 56,
   "id": "a7a7be0c",
   "metadata": {},
   "outputs": [
    {
     "data": {
      "text/html": [
       "<div>\n",
       "<style scoped>\n",
       "    .dataframe tbody tr th:only-of-type {\n",
       "        vertical-align: middle;\n",
       "    }\n",
       "\n",
       "    .dataframe tbody tr th {\n",
       "        vertical-align: top;\n",
       "    }\n",
       "\n",
       "    .dataframe thead th {\n",
       "        text-align: right;\n",
       "    }\n",
       "</style>\n",
       "<table border=\"1\" class=\"dataframe\">\n",
       "  <thead>\n",
       "    <tr style=\"text-align: right;\">\n",
       "      <th></th>\n",
       "      <th>user_id</th>\n",
       "      <th>movie_id</th>\n",
       "      <th>rating</th>\n",
       "    </tr>\n",
       "  </thead>\n",
       "  <tbody>\n",
       "    <tr>\n",
       "      <th>0</th>\n",
       "      <td>1</td>\n",
       "      <td>1193</td>\n",
       "      <td>5</td>\n",
       "    </tr>\n",
       "    <tr>\n",
       "      <th>1</th>\n",
       "      <td>1</td>\n",
       "      <td>661</td>\n",
       "      <td>3</td>\n",
       "    </tr>\n",
       "    <tr>\n",
       "      <th>2</th>\n",
       "      <td>1</td>\n",
       "      <td>914</td>\n",
       "      <td>3</td>\n",
       "    </tr>\n",
       "    <tr>\n",
       "      <th>3</th>\n",
       "      <td>1</td>\n",
       "      <td>3408</td>\n",
       "      <td>4</td>\n",
       "    </tr>\n",
       "    <tr>\n",
       "      <th>4</th>\n",
       "      <td>1</td>\n",
       "      <td>2355</td>\n",
       "      <td>5</td>\n",
       "    </tr>\n",
       "  </tbody>\n",
       "</table>\n",
       "</div>"
      ],
      "text/plain": [
       "   user_id  movie_id  rating\n",
       "0        1      1193       5\n",
       "1        1       661       3\n",
       "2        1       914       3\n",
       "3        1      3408       4\n",
       "4        1      2355       5"
      ]
     },
     "execution_count": 56,
     "metadata": {},
     "output_type": "execute_result"
    }
   ],
   "source": [
    "data = ratings.drop('timestamp', axis=1)\n",
    "data.head()"
   ]
  },
  {
   "cell_type": "markdown",
   "id": "282759a5",
   "metadata": {},
   "source": [
    "## Section III: Exploratory Data Analysis\n",
    "\n",
    "Understanding your data before modeling prevents **garbage in, garbage out**.\n",
    "\n",
    "### Why Visualization Before Modeling?\n",
    "\n",
    "**The Hidden Insights**:\n",
    "- Which age groups rate highest? → Target marketing\n",
    "- Which genres are most/least popular? → Content strategy\n",
    "- Gender-based rating differences? → Personalized recommendations\n",
    "\n",
    "### Business Intelligence Applications\n",
    "\n",
    "These visualizations answer questions like:\n",
    "1. **Content Strategy**: Which genres should we invest in?\n",
    "2. **Target Marketing**: Who rates highest? How do we reach them?\n",
    "3. **Personalization**: Should we show different recommendations to men vs women?\n",
    "4. **Product Development**: Which age groups are underserved?\n",
    "\n",
    "### Real-World Impact\n",
    "\n",
    "Netflix uses this exact analysis to:\n",
    "- **Commission shows**: \"Sci-fi thrillers rate well with 25-34 age group\"\n",
    "- **Marketing**: \"Romance films work best for 18-24 female audience\"\n",
    "- **Personalization**: \"Show action first to male viewers, drama to female\"\n",
    "\n",
    "This isn't just academic—it drives content spend decisions worth millions.\n"
   ]
  },
  {
   "cell_type": "code",
   "execution_count": 57,
   "id": "148207d9",
   "metadata": {},
   "outputs": [
    {
     "data": {
      "text/html": [
       "<div>\n",
       "<style scoped>\n",
       "    .dataframe tbody tr th:only-of-type {\n",
       "        vertical-align: middle;\n",
       "    }\n",
       "\n",
       "    .dataframe tbody tr th {\n",
       "        vertical-align: top;\n",
       "    }\n",
       "\n",
       "    .dataframe thead th {\n",
       "        text-align: right;\n",
       "    }\n",
       "</style>\n",
       "<table border=\"1\" class=\"dataframe\">\n",
       "  <thead>\n",
       "    <tr style=\"text-align: right;\">\n",
       "      <th></th>\n",
       "      <th>user_id</th>\n",
       "      <th>movie_id</th>\n",
       "      <th>rating</th>\n",
       "      <th>gender</th>\n",
       "      <th>age</th>\n",
       "      <th>occupation</th>\n",
       "    </tr>\n",
       "  </thead>\n",
       "  <tbody>\n",
       "    <tr>\n",
       "      <th>0</th>\n",
       "      <td>1</td>\n",
       "      <td>1193</td>\n",
       "      <td>5</td>\n",
       "      <td>F</td>\n",
       "      <td>1</td>\n",
       "      <td>10</td>\n",
       "    </tr>\n",
       "    <tr>\n",
       "      <th>1</th>\n",
       "      <td>1</td>\n",
       "      <td>661</td>\n",
       "      <td>3</td>\n",
       "      <td>F</td>\n",
       "      <td>1</td>\n",
       "      <td>10</td>\n",
       "    </tr>\n",
       "    <tr>\n",
       "      <th>2</th>\n",
       "      <td>1</td>\n",
       "      <td>914</td>\n",
       "      <td>3</td>\n",
       "      <td>F</td>\n",
       "      <td>1</td>\n",
       "      <td>10</td>\n",
       "    </tr>\n",
       "    <tr>\n",
       "      <th>3</th>\n",
       "      <td>1</td>\n",
       "      <td>3408</td>\n",
       "      <td>4</td>\n",
       "      <td>F</td>\n",
       "      <td>1</td>\n",
       "      <td>10</td>\n",
       "    </tr>\n",
       "    <tr>\n",
       "      <th>4</th>\n",
       "      <td>1</td>\n",
       "      <td>2355</td>\n",
       "      <td>5</td>\n",
       "      <td>F</td>\n",
       "      <td>1</td>\n",
       "      <td>10</td>\n",
       "    </tr>\n",
       "  </tbody>\n",
       "</table>\n",
       "</div>"
      ],
      "text/plain": [
       "   user_id  movie_id  rating gender  age  occupation\n",
       "0        1      1193       5      F    1          10\n",
       "1        1       661       3      F    1          10\n",
       "2        1       914       3      F    1          10\n",
       "3        1      3408       4      F    1          10\n",
       "4        1      2355       5      F    1          10"
      ]
     },
     "execution_count": 57,
     "metadata": {},
     "output_type": "execute_result"
    }
   ],
   "source": [
    "# Merge demographic info from users into the data\n",
    "data_with_demographics = data.merge(users[['user_id', 'gender', 'age', 'occupation']], on='user_id', how='left')\n",
    "data_with_demographics.head()"
   ]
  },
  {
   "cell_type": "code",
   "execution_count": 58,
   "id": "f1efa799",
   "metadata": {},
   "outputs": [
    {
     "data": {
      "text/html": [
       "<div>\n",
       "<style scoped>\n",
       "    .dataframe tbody tr th:only-of-type {\n",
       "        vertical-align: middle;\n",
       "    }\n",
       "\n",
       "    .dataframe tbody tr th {\n",
       "        vertical-align: top;\n",
       "    }\n",
       "\n",
       "    .dataframe thead th {\n",
       "        text-align: right;\n",
       "    }\n",
       "</style>\n",
       "<table border=\"1\" class=\"dataframe\">\n",
       "  <thead>\n",
       "    <tr style=\"text-align: right;\">\n",
       "      <th></th>\n",
       "      <th>user_id</th>\n",
       "      <th>movie_id</th>\n",
       "      <th>rating</th>\n",
       "      <th>gender</th>\n",
       "      <th>age</th>\n",
       "      <th>occupation</th>\n",
       "      <th>genres</th>\n",
       "    </tr>\n",
       "  </thead>\n",
       "  <tbody>\n",
       "    <tr>\n",
       "      <th>0</th>\n",
       "      <td>1</td>\n",
       "      <td>1193</td>\n",
       "      <td>5</td>\n",
       "      <td>F</td>\n",
       "      <td>1</td>\n",
       "      <td>10</td>\n",
       "      <td>Drama</td>\n",
       "    </tr>\n",
       "    <tr>\n",
       "      <th>1</th>\n",
       "      <td>1</td>\n",
       "      <td>661</td>\n",
       "      <td>3</td>\n",
       "      <td>F</td>\n",
       "      <td>1</td>\n",
       "      <td>10</td>\n",
       "      <td>Animation|Children's|Musical</td>\n",
       "    </tr>\n",
       "    <tr>\n",
       "      <th>2</th>\n",
       "      <td>1</td>\n",
       "      <td>914</td>\n",
       "      <td>3</td>\n",
       "      <td>F</td>\n",
       "      <td>1</td>\n",
       "      <td>10</td>\n",
       "      <td>Musical|Romance</td>\n",
       "    </tr>\n",
       "    <tr>\n",
       "      <th>3</th>\n",
       "      <td>1</td>\n",
       "      <td>3408</td>\n",
       "      <td>4</td>\n",
       "      <td>F</td>\n",
       "      <td>1</td>\n",
       "      <td>10</td>\n",
       "      <td>Drama</td>\n",
       "    </tr>\n",
       "    <tr>\n",
       "      <th>4</th>\n",
       "      <td>1</td>\n",
       "      <td>2355</td>\n",
       "      <td>5</td>\n",
       "      <td>F</td>\n",
       "      <td>1</td>\n",
       "      <td>10</td>\n",
       "      <td>Animation|Children's|Comedy</td>\n",
       "    </tr>\n",
       "  </tbody>\n",
       "</table>\n",
       "</div>"
      ],
      "text/plain": [
       "   user_id  movie_id  rating gender  age  occupation  \\\n",
       "0        1      1193       5      F    1          10   \n",
       "1        1       661       3      F    1          10   \n",
       "2        1       914       3      F    1          10   \n",
       "3        1      3408       4      F    1          10   \n",
       "4        1      2355       5      F    1          10   \n",
       "\n",
       "                         genres  \n",
       "0                         Drama  \n",
       "1  Animation|Children's|Musical  \n",
       "2               Musical|Romance  \n",
       "3                         Drama  \n",
       "4   Animation|Children's|Comedy  "
      ]
     },
     "execution_count": 58,
     "metadata": {},
     "output_type": "execute_result"
    }
   ],
   "source": [
    "# Merge movies info from movies into the data \n",
    "data_with_movies = data_with_demographics.merge(movies[['movie_id', 'genres']], on='movie_id', how='left')\n",
    "data_with_movies.head()"
   ]
  },
  {
   "cell_type": "markdown",
   "id": "2e0da293",
   "metadata": {},
   "source": [
    "### III. Quick Data Analysis"
   ]
  },
  {
   "cell_type": "code",
   "execution_count": 59,
   "id": "49d46e7d",
   "metadata": {},
   "outputs": [
    {
     "name": "stdout",
     "output_type": "stream",
     "text": [
      "Number of unique values in each column:\n",
      " user_id       6040\n",
      "movie_id      3706\n",
      "rating           5\n",
      "gender           2\n",
      "age              7\n",
      "occupation      21\n",
      "genres         301\n",
      "dtype: int64\n"
     ]
    }
   ],
   "source": [
    "unique_counts = data_with_movies.nunique()\n",
    "print(\"Number of unique values in each column:\\n\", unique_counts)"
   ]
  },
  {
   "cell_type": "code",
   "execution_count": 60,
   "id": "76daf601",
   "metadata": {},
   "outputs": [
    {
     "name": "stdout",
     "output_type": "stream",
     "text": [
      "user_id       0\n",
      "movie_id      0\n",
      "rating        0\n",
      "gender        0\n",
      "age           0\n",
      "occupation    0\n",
      "genres        0\n",
      "dtype: int64\n"
     ]
    }
   ],
   "source": [
    "# null values in each column\n",
    "print(data_with_movies.isnull().sum())"
   ]
  },
  {
   "cell_type": "code",
   "execution_count": 61,
   "id": "64b55d1b",
   "metadata": {},
   "outputs": [
    {
     "data": {
      "text/plain": [
       "<Figure size 1000x600 with 0 Axes>"
      ]
     },
     "metadata": {},
     "output_type": "display_data"
    },
    {
     "data": {
      "image/png": "[encoded data removed]",
      "text/plain": [
       "<Figure size 1200x700 with 1 Axes>"
      ]
     },
     "metadata": {},
     "output_type": "display_data"
    }
   ],
   "source": [
    "# Show distribution of rating based on age\n",
    "plt.figure(figsize=(10,6))\n",
    "data_with_movies.groupby('age')['rating'].value_counts().unstack().plot(\n",
    "    kind='bar',\n",
    "    stacked=True,\n",
    "    colormap='viridis', \n",
    "    figsize=(12,7)\n",
    ")\n",
    "plt.title('Distribution of Ratings by Age Group')\n",
    "plt.xlabel('Age Group')\n",
    "plt.ylabel('Count of Ratings')\n",
    "plt.legend(title='Rating', bbox_to_anchor=(1.05, 1), loc='upper left')\n",
    "plt.show()"
   ]
  },
  {
   "cell_type": "code",
   "execution_count": 62,
   "id": "d28b6f4f",
   "metadata": {},
   "outputs": [
    {
     "data": {
      "text/plain": [
       "<Figure size 1000x600 with 0 Axes>"
      ]
     },
     "metadata": {},
     "output_type": "display_data"
    },
    {
     "data": {
      "image/png": "[encoded data removed]",
      "text/plain": [
       "<Figure size 1200x700 with 1 Axes>"
      ]
     },
     "metadata": {},
     "output_type": "display_data"
    }
   ],
   "source": [
    "# Show distribution of rating for top 15 genres\n",
    "top_15_genres = data_with_movies['genres'].value_counts().head(15).index\n",
    "top15_data = data_with_movies[data_with_movies['genres'].isin(top_15_genres)]\n",
    "\n",
    "plt.figure(figsize=(10,6))\n",
    "top15_data.groupby('genres')['rating'].value_counts().unstack().loc[top_15_genres].plot(\n",
    "    kind='bar', \n",
    "    stacked=True, \n",
    "    colormap='viridis', \n",
    "    figsize=(12,7)\n",
    ")\n",
    "plt.title('Distribution of Ratings by Genre (Top 15 Genres)')\n",
    "plt.xlabel('Genre')\n",
    "plt.ylabel('Count of Ratings')\n",
    "plt.legend(title='Rating', bbox_to_anchor=(1.05, 1), loc='upper left')\n",
    "plt.tight_layout()\n",
    "plt.show()"
   ]
  },
  {
   "cell_type": "code",
   "execution_count": 63,
   "id": "8f28b8d5",
   "metadata": {},
   "outputs": [
    {
     "name": "stdout",
     "output_type": "stream",
     "text": [
      "Number of ratings by gender:\n",
      " gender\n",
      "M    753769\n",
      "F    246440\n",
      "Name: count, dtype: int64\n"
     ]
    },
    {
     "data": {
      "image/png": "[encoded data removed]",
      "text/plain": [
       "<Figure size 640x480 with 1 Axes>"
      ]
     },
     "metadata": {},
     "output_type": "display_data"
    }
   ],
   "source": [
    "# Compare the total number of ratings between females and males\n",
    "gender_counts = data_with_movies['gender'].value_counts()\n",
    "print(\"Number of ratings by gender:\\n\", gender_counts)\n",
    "gender_counts.plot(kind='bar', color=['purple', 'blue'])\n",
    "plt.title('Number of Ratings by Gender')\n",
    "plt.xlabel('Gender')\n",
    "plt.ylabel('Number of Ratings')\n",
    "\n",
    "plt.show()"
   ]
  },
  {
   "cell_type": "markdown",
   "id": "150f827d",
   "metadata": {},
   "source": [
    "## Section IV: Encoding Categorical Features\n",
    "\n",
    "This is **feature engineering** at its finest—transforming raw data into machine-learnable features.\n",
    "\n",
    "### The Challenge: Categorical Data\n",
    "\n",
    "Machine learning models need **numbers**, but we have:\n",
    "- Categorical: gender (M/F), occupation (21 types), genres (multi-label)\n",
    "- Solution: **One-hot encoding** and **multi-label binarization**\n",
    "\n",
    "### Why One-Hot Encoding Works\n",
    "\n",
    "**The Problem**: \"Male\" ≠ 1, \"Female\" ≠ 2 (ordinal relationship implied)\n",
    "**The Solution**: Create separate binary features:\n",
    "- `gender_M`: 1 if male, 0 if not\n",
    "- `gender_F`: 1 if female, 0 if not\n",
    "\n",
    "Now model learns independently: \"Being male + engineer + sci-fi lover = high probability\"\n",
    "\n",
    "### Multi-Label Encoding: Handling Genres\n",
    "\n",
    "Movies have **multiple genres**: \"Action|Adventure|Sci-Fi\"\n",
    "- Not mutually exclusive\n",
    "- Need to encode all combinations\n",
    "\n",
    "**MultiLabelBinarizer** creates:\n",
    "- `genre_Action`: 1 if movie has Action genre\n",
    "- `genre_Adventure`: 1 if movie has Adventure genre\n",
    "- ... and so on\n",
    "\n",
    "### Business Impact\n",
    "\n",
    "This encoding strategy enables:\n",
    "- **Interpretability**: \"Model weights heavily on 'Engineer' and 'Sci-Fi'\"\n",
    "- **Personalization**: Different weights per demographic segment\n",
    "- **Debugging**: Understand exactly what drives predictions\n",
    "\n",
    "Production systems use this exact approach for fraud detection, churn prediction, and A/B testing.\n"
   ]
  },
  {
   "cell_type": "markdown",
   "id": "f4809ea4",
   "metadata": {},
   "source": [
    "Occupations:\n",
    "\n",
    "\t*  0:  \"other\" or not specified\n",
    "\t*  1:  \"academic/educator\"\n",
    "\t*  2:  \"artist\"\n",
    "\t*  3:  \"clerical/admin\"\n",
    "\t*  4:  \"college/grad student\"\n",
    "\t*  5:  \"customer service\"\n",
    "\t*  6:  \"doctor/health care\"\n",
    "\t*  7:  \"executive/managerial\"\n",
    "\t*  8:  \"farmer\"\n",
    "\t*  9:  \"homemaker\"\n",
    "\t* 10:  \"K-12 student\"\n",
    "\t* 11:  \"lawyer\"\n",
    "\t* 12:  \"programmer\"\n",
    "\t* 13:  \"retired\"\n",
    "\t* 14:  \"sales/marketing\"\n",
    "\t* 15:  \"scientist\"\n",
    "\t* 16:  \"self-employed\"\n",
    "\t* 17:  \"technician/engineer\"\n",
    "\t* 18:  \"tradesman/craftsman\"\n",
    "\t* 19:  \"unemployed\"\n",
    "\t* 20:  \"writer\""
   ]
  },
  {
   "cell_type": "code",
   "execution_count": 64,
   "id": "2a17d51c",
   "metadata": {},
   "outputs": [
    {
     "data": {
      "image/png": "[encoded data removed]",
      "text/plain": [
       "<Figure size 1400x600 with 1 Axes>"
      ]
     },
     "metadata": {},
     "output_type": "display_data"
    }
   ],
   "source": [
    "# Plot number of ratings by occupation - data_with_movies set\n",
    "\n",
    "occupation_counts = data_with_movies['occupation'].value_counts().sort_index()\n",
    "\n",
    "occupation_labels = [\n",
    "    \"Other/Not Specified\", \"Academic/Educator\", \"Artist\", \"Clerical/Admin\",\n",
    "    \"College/Grad Student\", \"Customer Service\", \"Doctor/Health Care\",\n",
    "    \"Executive/Managerial\", \"Farmer\", \"Homemaker\", \"K-12 Student\", \"Lawyer\",\n",
    "    \"Programmer\", \"Retired\", \"Sales/Marketing\", \"Scientist\",\n",
    "    \"Self-Employed\", \"Technician/Engineer\", \"Tradesman/Craftsman\",\n",
    "    \"Unemployed\", \"Writer\"\n",
    "]\n",
    "\n",
    "plt.figure(figsize=(14,6))\n",
    "plt.bar(range(len(occupation_counts)), occupation_counts, color='teal')\n",
    "plt.xticks(range(len(occupation_counts)), occupation_labels, rotation=45, ha='right')\n",
    "plt.title('Number of Ratings by Occupation')\n",
    "plt.xlabel('Occupation')\n",
    "plt.ylabel('Number of Ratings')\n",
    "plt.tight_layout()\n",
    "plt.show()"
   ]
  },
  {
   "cell_type": "code",
   "execution_count": 65,
   "id": "62e7287d",
   "metadata": {},
   "outputs": [
    {
     "data": {
      "image/png": "[encoded data removed]",
      "text/plain": [
       "<Figure size 1400x600 with 1 Axes>"
      ]
     },
     "metadata": {},
     "output_type": "display_data"
    }
   ],
   "source": [
    "# Plot number of ratings by occupation - users set\n",
    "\n",
    "users_occ= users['occupation'].value_counts().sort_index()\n",
    "\n",
    "occupation_labels = [\n",
    "    \"Other/Not Specified\", \"Academic/Educator\", \"Artist\", \"Clerical/Admin\",\n",
    "    \"College/Grad Student\", \"Customer Service\", \"Doctor/Health Care\",\n",
    "    \"Executive/Managerial\", \"Farmer\", \"Homemaker\", \"K-12 Student\", \"Lawyer\",\n",
    "    \"Programmer\", \"Retired\", \"Sales/Marketing\", \"Scientist\",\n",
    "    \"Self-Employed\", \"Technician/Engineer\", \"Tradesman/Craftsman\",\n",
    "    \"Unemployed\", \"Writer\"\n",
    "]\n",
    "\n",
    "plt.figure(figsize=(14,6))\n",
    "plt.bar(range(len(users_occ)), users_occ, color='teal')\n",
    "plt.xticks(range(len(users_occ)), occupation_labels, rotation=45, ha='right')\n",
    "plt.title('Number of Ratings by Occupation')\n",
    "plt.xlabel('Occupation')\n",
    "plt.ylabel('Number of Ratings')\n",
    "plt.tight_layout()\n",
    "plt.show()"
   ]
  },
  {
   "cell_type": "markdown",
   "id": "c3a69934",
   "metadata": {},
   "source": [
    "### IV. Matrix of Users and Features"
   ]
  },
  {
   "cell_type": "code",
   "execution_count": 66,
   "id": "158dfda5",
   "metadata": {},
   "outputs": [],
   "source": [
    "from sklearn.preprocessing import MultiLabelBinarizer"
   ]
  },
  {
   "cell_type": "code",
   "execution_count": 67,
   "id": "ed15f766",
   "metadata": {},
   "outputs": [],
   "source": [
    "data=data_with_movies"
   ]
  },
  {
   "cell_type": "markdown",
   "id": "6f162de8",
   "metadata": {},
   "source": [
    "## Section V: Building the Hybrid Recommendation Model\n",
    "\n",
    "Now for the exciting part: we're training a **hybrid recommendation model** that leverages:\n",
    "- **Behavioral features**: Rating patterns from other movies\n",
    "- **Demographic features**: Age, gender, occupation\n",
    "- **Content features**: Movie genres\n",
    "\n",
    "This combination is **more powerful** than either alone.\n",
    "\n",
    "### Why This Model Architecture Works\n",
    "\n",
    "**The Hybrid Advantage**:\n",
    "\n",
    "1. **Cold-Start Solution**: New users with demographics but no ratings → still get recommendations\n",
    "2. **Long-Tail Coverage**: Niche movies with few ratings → genre + demographics fill the gap\n",
    "3. **Explainability**: \"We recommend this because you're a 25-year-old engineer who likes sci-fi\"\n",
    "4. **Robustness**: If one signal is weak, others compensate\n",
    "\n",
    "### Real-World Application: Netflix's Algorithm\n",
    "\n",
    "Netflix uses a similar hybrid approach:\n",
    "```\n",
    "Recommendation Score = w1 × Collaborative Filtering\n",
    "                      + w2 × Content-Based Filtering  \n",
    "                      + w3 × Demographic Similarity\n",
    "                      + w4 × Temporal Patterns\n",
    "```\n",
    "\n",
    "We're building the foundation of this framework with Naive Bayes as the base classifier.\n",
    "\n",
    "### The Performance Tradeoff\n",
    "\n",
    "Notice our accuracy (58.4%) is **lower** than the pure collaborative filtering approach (71.6%). This is expected because:\n",
    "- We added more dimensions (harder learning problem)\n",
    "- Many more features (curse of dimensionality)\n",
    "- Benefit: Better generalization, handles edge cases\n",
    "\n",
    "In production, we'd optimize feature weights and use ensemble methods to get best of both worlds.\n"
   ]
  },
  {
   "cell_type": "code",
   "execution_count": 68,
   "id": "8ead519e",
   "metadata": {},
   "outputs": [],
   "source": [
    "# 1. Target: \"Like\" if rating > 3, else \"Dislike\"\n",
    "data['like'] = (data['rating'] > 3).astype(int)"
   ]
  },
  {
   "cell_type": "code",
   "execution_count": 69,
   "id": "19039163",
   "metadata": {},
   "outputs": [],
   "source": [
    "# 2. Drop non-predictive or leaking columns\n",
    "# user_id → ID only\n",
    "# rating  → leaks target\n",
    "# movie_id kept only if predicting a specific movie, then now drop\n",
    "data = data.drop(columns=['user_id', 'rating'])"
   ]
  },
  {
   "cell_type": "code",
   "execution_count": 70,
   "id": "5018b511",
   "metadata": {},
   "outputs": [],
   "source": [
    "# 3. Handle genres (multi-label column)\n",
    "# Split strings like \"Action|Adventure|Sci-Fi\" into lists\n",
    "data['genres'] = data['genres'].apply(lambda x: x.split('|'))\n",
    "\n",
    "mlb = MultiLabelBinarizer()\n",
    "genres_encoded = pd.DataFrame(\n",
    "    mlb.fit_transform(data['genres']),\n",
    "    columns=mlb.classes_,\n",
    "    index=data.index\n",
    ")"
   ]
  },
  {
   "cell_type": "code",
   "execution_count": 71,
   "id": "e3df7b14",
   "metadata": {},
   "outputs": [],
   "source": [
    "# 4. One-hot encode single-category columns\n",
    "# gender, age group, occupation → each becomes binary flags\n",
    "categorical_cols = ['gender', 'age', 'occupation']\n",
    "data_encoded = pd.get_dummies(data, columns=categorical_cols, drop_first=False)"
   ]
  },
  {
   "cell_type": "code",
   "execution_count": 72,
   "id": "948228d8",
   "metadata": {},
   "outputs": [],
   "source": [
    "# Remove the old 'genres' column and merge encoded genres\n",
    "data_encoded = pd.concat([data_encoded.drop(columns=['genres']), genres_encoded], axis=1)"
   ]
  },
  {
   "cell_type": "markdown",
   "id": "2c9fd46d",
   "metadata": {},
   "source": [
    "## Section VI: Model Evaluation - Understanding Tradeoffs\n",
    "\n",
    "This section demonstrates **production-grade model evaluation**—the difference between academic experiments and business decisions.\n",
    "\n",
    "### Why Traditional Accuracy Isn't Enough\n",
    "\n",
    "**The Problem with Accuracy**:\n",
    "- Our dataset: 58% like, 42% dislike\n",
    "- Always predict \"like\" → 58% accuracy\n",
    "- This is **worse than guessing**, yet high accuracy can hide the issue\n",
    "\n",
    "### The Metrics That Matter in Production\n",
    "\n",
    "1. **Confusion Matrix**: The truth about where we succeed/fail\n",
    "   - **True Positives**: People we correctly predicted would like it\n",
    "   - **False Positives**: We predicted \"like\" but user won't (annoying)\n",
    "   - **True Negatives**: We correctly predicted \"won't like\" (good filtering)\n",
    "   - **False Negatives**: We missed opportunities (lost engagement)\n",
    "\n",
    "2. **Precision (61%)**: \"When we say 'like', 61% of the time we're right\"\n",
    "   - Business impact: Reduces recommendation fatigue\n",
    "\n",
    "3. **Recall (78%)**: \"We catch 78% of movies users would like\"\n",
    "   - Business impact: Don't miss opportunities for engagement\n",
    "\n",
    "4. **F1 Score (68%)**: Balanced performance metric\n",
    "   - Industry benchmark: 60-70% is solid for recommendation systems\n",
    "\n",
    "### ROC Curve: The Strategic Tradeoff\n",
    "\n",
    "**The Business Question**: How aggressive should we be?\n",
    "\n",
    "- **Conservative threshold** (high bar for \"like\"):\n",
    "  - Fewer recommendations, but very accurate\n",
    "  - Good for: Quality-focused platforms (critic reviews)\n",
    "  \n",
    "- **Aggressive threshold** (low bar for \"like\"):\n",
    "  - More recommendations, lower accuracy\n",
    "  - Good for: Discovery-focused platforms (music streaming)\n",
    "\n",
    "The ROC curve lets stakeholders **visualize this tradeoff** and choose their risk tolerance.\n"
   ]
  },
  {
   "cell_type": "code",
   "execution_count": 73,
   "id": "198341b8",
   "metadata": {},
   "outputs": [],
   "source": [
    "# 5. Separate features (X) and target (y)\n",
    "X = data_encoded.drop(columns=['like'])\n",
    "y = data_encoded['like']"
   ]
  },
  {
   "cell_type": "code",
   "execution_count": 74,
   "id": "99fd3644",
   "metadata": {},
   "outputs": [
    {
     "name": "stdout",
     "output_type": "stream",
     "text": [
      "Final feature matrix shape: (1000209, 49)\n",
      "Target vector shape: (1000209,)\n"
     ]
    }
   ],
   "source": [
    "print(f\"Final feature matrix shape: {X.shape}\")\n",
    "print(f\"Target vector shape: {y.shape}\")"
   ]
  },
  {
   "cell_type": "code",
   "execution_count": 75,
   "id": "c5566ebf",
   "metadata": {},
   "outputs": [
    {
     "data": {
      "text/html": [
       "<div>\n",
       "<style scoped>\n",
       "    .dataframe tbody tr th:only-of-type {\n",
       "        vertical-align: middle;\n",
       "    }\n",
       "\n",
       "    .dataframe tbody tr th {\n",
       "        vertical-align: top;\n",
       "    }\n",
       "\n",
       "    .dataframe thead th {\n",
       "        text-align: right;\n",
       "    }\n",
       "</style>\n",
       "<table border=\"1\" class=\"dataframe\">\n",
       "  <thead>\n",
       "    <tr style=\"text-align: right;\">\n",
       "      <th></th>\n",
       "      <th>movie_id</th>\n",
       "      <th>gender_F</th>\n",
       "      <th>gender_M</th>\n",
       "      <th>age_1</th>\n",
       "      <th>age_18</th>\n",
       "      <th>age_25</th>\n",
       "      <th>age_35</th>\n",
       "      <th>age_45</th>\n",
       "      <th>age_50</th>\n",
       "      <th>age_56</th>\n",
       "      <th>...</th>\n",
       "      <th>Fantasy</th>\n",
       "      <th>Film-Noir</th>\n",
       "      <th>Horror</th>\n",
       "      <th>Musical</th>\n",
       "      <th>Mystery</th>\n",
       "      <th>Romance</th>\n",
       "      <th>Sci-Fi</th>\n",
       "      <th>Thriller</th>\n",
       "      <th>War</th>\n",
       "      <th>Western</th>\n",
       "    </tr>\n",
       "  </thead>\n",
       "  <tbody>\n",
       "    <tr>\n",
       "      <th>0</th>\n",
       "      <td>1193</td>\n",
       "      <td>True</td>\n",
       "      <td>False</td>\n",
       "      <td>True</td>\n",
       "      <td>False</td>\n",
       "      <td>False</td>\n",
       "      <td>False</td>\n",
       "      <td>False</td>\n",
       "      <td>False</td>\n",
       "      <td>False</td>\n",
       "      <td>...</td>\n",
       "      <td>0</td>\n",
       "      <td>0</td>\n",
       "      <td>0</td>\n",
       "      <td>0</td>\n",
       "      <td>0</td>\n",
       "      <td>0</td>\n",
       "      <td>0</td>\n",
       "      <td>0</td>\n",
       "      <td>0</td>\n",
       "      <td>0</td>\n",
       "    </tr>\n",
       "    <tr>\n",
       "      <th>1</th>\n",
       "      <td>661</td>\n",
       "      <td>True</td>\n",
       "      <td>False</td>\n",
       "      <td>True</td>\n",
       "      <td>False</td>\n",
       "      <td>False</td>\n",
       "      <td>False</td>\n",
       "      <td>False</td>\n",
       "      <td>False</td>\n",
       "      <td>False</td>\n",
       "      <td>...</td>\n",
       "      <td>0</td>\n",
       "      <td>0</td>\n",
       "      <td>0</td>\n",
       "      <td>1</td>\n",
       "      <td>0</td>\n",
       "      <td>0</td>\n",
       "      <td>0</td>\n",
       "      <td>0</td>\n",
       "      <td>0</td>\n",
       "      <td>0</td>\n",
       "    </tr>\n",
       "    <tr>\n",
       "      <th>2</th>\n",
       "      <td>914</td>\n",
       "      <td>True</td>\n",
       "      <td>False</td>\n",
       "      <td>True</td>\n",
       "      <td>False</td>\n",
       "      <td>False</td>\n",
       "      <td>False</td>\n",
       "      <td>False</td>\n",
       "      <td>False</td>\n",
       "      <td>False</td>\n",
       "      <td>...</td>\n",
       "      <td>0</td>\n",
       "      <td>0</td>\n",
       "      <td>0</td>\n",
       "      <td>1</td>\n",
       "      <td>0</td>\n",
       "      <td>1</td>\n",
       "      <td>0</td>\n",
       "      <td>0</td>\n",
       "      <td>0</td>\n",
       "      <td>0</td>\n",
       "    </tr>\n",
       "    <tr>\n",
       "      <th>3</th>\n",
       "      <td>3408</td>\n",
       "      <td>True</td>\n",
       "      <td>False</td>\n",
       "      <td>True</td>\n",
       "      <td>False</td>\n",
       "      <td>False</td>\n",
       "      <td>False</td>\n",
       "      <td>False</td>\n",
       "      <td>False</td>\n",
       "      <td>False</td>\n",
       "      <td>...</td>\n",
       "      <td>0</td>\n",
       "      <td>0</td>\n",
       "      <td>0</td>\n",
       "      <td>0</td>\n",
       "      <td>0</td>\n",
       "      <td>0</td>\n",
       "      <td>0</td>\n",
       "      <td>0</td>\n",
       "      <td>0</td>\n",
       "      <td>0</td>\n",
       "    </tr>\n",
       "    <tr>\n",
       "      <th>4</th>\n",
       "      <td>2355</td>\n",
       "      <td>True</td>\n",
       "      <td>False</td>\n",
       "      <td>True</td>\n",
       "      <td>False</td>\n",
       "      <td>False</td>\n",
       "      <td>False</td>\n",
       "      <td>False</td>\n",
       "      <td>False</td>\n",
       "      <td>False</td>\n",
       "      <td>...</td>\n",
       "      <td>0</td>\n",
       "      <td>0</td>\n",
       "      <td>0</td>\n",
       "      <td>0</td>\n",
       "      <td>0</td>\n",
       "      <td>0</td>\n",
       "      <td>0</td>\n",
       "      <td>0</td>\n",
       "      <td>0</td>\n",
       "      <td>0</td>\n",
       "    </tr>\n",
       "  </tbody>\n",
       "</table>\n",
       "<p>5 rows × 49 columns</p>\n",
       "</div>"
      ],
      "text/plain": [
       "   movie_id  gender_F  gender_M  age_1  age_18  age_25  age_35  age_45  \\\n",
       "0      1193      True     False   True   False   False   False   False   \n",
       "1       661      True     False   True   False   False   False   False   \n",
       "2       914      True     False   True   False   False   False   False   \n",
       "3      3408      True     False   True   False   False   False   False   \n",
       "4      2355      True     False   True   False   False   False   False   \n",
       "\n",
       "   age_50  age_56  ...  Fantasy  Film-Noir  Horror  Musical  Mystery  Romance  \\\n",
       "0   False   False  ...        0          0       0        0        0        0   \n",
       "1   False   False  ...        0          0       0        1        0        0   \n",
       "2   False   False  ...        0          0       0        1        0        1   \n",
       "3   False   False  ...        0          0       0        0        0        0   \n",
       "4   False   False  ...        0          0       0        0        0        0   \n",
       "\n",
       "   Sci-Fi  Thriller  War  Western  \n",
       "0       0         0    0        0  \n",
       "1       0         0    0        0  \n",
       "2       0         0    0        0  \n",
       "3       0         0    0        0  \n",
       "4       0         0    0        0  \n",
       "\n",
       "[5 rows x 49 columns]"
      ]
     },
     "execution_count": 75,
     "metadata": {},
     "output_type": "execute_result"
    }
   ],
   "source": [
    "X.head()"
   ]
  },
  {
   "cell_type": "code",
   "execution_count": 76,
   "id": "a1c0d689",
   "metadata": {},
   "outputs": [
    {
     "data": {
      "text/plain": [
       "0    1\n",
       "1    0\n",
       "2    0\n",
       "3    1\n",
       "4    1\n",
       "Name: like, dtype: int64"
      ]
     },
     "execution_count": 76,
     "metadata": {},
     "output_type": "execute_result"
    }
   ],
   "source": [
    "y.head()"
   ]
  },
  {
   "cell_type": "markdown",
   "id": "81367714",
   "metadata": {},
   "source": [
    "### V. Training a Naïve Bayes model\n"
   ]
  },
  {
   "cell_type": "markdown",
   "id": "95501408",
   "metadata": {},
   "source": [
    "### Train/Test Split"
   ]
  },
  {
   "cell_type": "markdown",
   "id": "638484cb",
   "metadata": {},
   "source": [
    "## Section VII: Cross-Validation for Robustness\n",
    "\n",
    "This final section demonstrates **production engineering rigor**—ensuring models work consistently across different data scenarios.\n",
    "\n",
    "### Why Cross-Validation is Mandatory\n",
    "\n",
    "**The Overfitting Problem**:\n",
    "- Model sees training data\n",
    "- Learns patterns specific to that data\n",
    "- Looks great in training\n",
    "- Breaks in production (real-world data is different)\n",
    "\n",
    "**Cross-Validation Solution**:\n",
    "- Train on 80% of data, test on 20%\n",
    "- Rotate which 20% is used for testing\n",
    "- Repeat 5 times\n",
    "- Average results → true production performance\n",
    "\n",
    "### The Business Cost of Skipping Validation\n",
    "\n",
    "**Real Company Example**: A startup skipped proper validation\n",
    "- Training accuracy: 90% (looked amazing)\n",
    "- Production accuracy: 50% (worse than guessing)\n",
    "- Cost: Lost $2M in failed recommendations\n",
    "- Fix: Added cross-validation → caught issue in development\n",
    "\n",
    "### Hyperparameter Tuning: Finding the Optimal Configuration\n",
    "\n",
    "We're testing combinations of:\n",
    "- **Alpha (smoothing)**: How much to trust sparse data\n",
    "- **Fit_prior**: Should we learn from data or assume equal classes?\n",
    "\n",
    "### Our Results: Understanding the Pattern\n",
    "\n",
    "All alpha values converged to **0.594 AUC**—this reveals something important:\n",
    "\n",
    "**The Hypothesis**: Demographics + genres **don't add much** over pure ratings for **this specific problem**.\n",
    "\n",
    "### When Would This Change?\n",
    "\n",
    "Demographics matter more when:\n",
    "- **New users**: No rating history → demographics are primary signal\n",
    "- **Niche content**: Few ratings → genres help bridge the gap\n",
    "- **Lifecycle stages**: Teen vs adult preferences differ dramatically\n",
    "\n",
    "### The Production Lesson\n",
    "\n",
    "**Always test your assumptions**:\n",
    "- We hypothesized: Demographics would improve predictions\n",
    "- Reality: For existing users with rating history, demographics add little value\n",
    "- Decision: Use simpler model (save compute costs) or combine with other techniques\n",
    "\n",
    "This is the **scientific method in data science**—test, measure, learn, iterate.\n"
   ]
  },
  {
   "cell_type": "code",
   "execution_count": 77,
   "id": "4af75090",
   "metadata": {},
   "outputs": [],
   "source": [
    "# train_test_split\n",
    "from sklearn.model_selection import train_test_split\n",
    "X_train, X_test, Y_train, Y_test = train_test_split(X, y, test_size=0.2, random_state=42)"
   ]
  },
  {
   "cell_type": "markdown",
   "id": "23f64e1d",
   "metadata": {},
   "source": [
    "#### Base Multinomial Naive Bayes"
   ]
  },
  {
   "cell_type": "code",
   "execution_count": 78,
   "id": "76313427",
   "metadata": {},
   "outputs": [
    {
     "data": {
      "text/html": [
       "<style>#sk-container-id-2 {\n",
       "  /* Definition of color scheme common for light and dark mode */\n",
       "  --sklearn-color-text: #000;\n",
       "  --sklearn-color-text-muted: #666;\n",
       "  --sklearn-color-line: gray;\n",
       "  /* Definition of color scheme for unfitted estimators */\n",
       "  --sklearn-color-unfitted-level-0: #fff5e6;\n",
       "  --sklearn-color-unfitted-level-1: #f6e4d2;\n",
       "  --sklearn-color-unfitted-level-2: #ffe0b3;\n",
       "  --sklearn-color-unfitted-level-3: chocolate;\n",
       "  /* Definition of color scheme for fitted estimators */\n",
       "  --sklearn-color-fitted-level-0: #f0f8ff;\n",
       "  --sklearn-color-fitted-level-1: #d4ebff;\n",
       "  --sklearn-color-fitted-level-2: #b3dbfd;\n",
       "  --sklearn-color-fitted-level-3: cornflowerblue;\n",
       "\n",
       "  /* Specific color for light theme */\n",
       "  --sklearn-color-text-on-default-background: var(--sg-text-color, var(--theme-code-foreground, var(--jp-content-font-color1, black)));\n",
       "  --sklearn-color-background: var(--sg-background-color, var(--theme-background, var(--jp-layout-color0, white)));\n",
       "  --sklearn-color-border-box: var(--sg-text-color, var(--theme-code-foreground, var(--jp-content-font-color1, black)));\n",
       "  --sklearn-color-icon: #696969;\n",
       "\n",
       "  @media (prefers-color-scheme: dark) {\n",
       "    /* Redefinition of color scheme for dark theme */\n",
       "    --sklearn-color-text-on-default-background: var(--sg-text-color, var(--theme-code-foreground, var(--jp-content-font-color1, white)));\n",
       "    --sklearn-color-background: var(--sg-background-color, var(--theme-background, var(--jp-layout-color0, #111)));\n",
       "    --sklearn-color-border-box: var(--sg-text-color, var(--theme-code-foreground, var(--jp-content-font-color1, white)));\n",
       "    --sklearn-color-icon: #878787;\n",
       "  }\n",
       "}\n",
       "\n",
       "#sk-container-id-2 {\n",
       "  color: var(--sklearn-color-text);\n",
       "}\n",
       "\n",
       "#sk-container-id-2 pre {\n",
       "  padding: 0;\n",
       "}\n",
       "\n",
       "#sk-container-id-2 input.sk-hidden--visually {\n",
       "  border: 0;\n",
       "  clip: rect(1px 1px 1px 1px);\n",
       "  clip: rect(1px, 1px, 1px, 1px);\n",
       "  height: 1px;\n",
       "  margin: -1px;\n",
       "  overflow: hidden;\n",
       "  padding: 0;\n",
       "  position: absolute;\n",
       "  width: 1px;\n",
       "}\n",
       "\n",
       "#sk-container-id-2 div.sk-dashed-wrapped {\n",
       "  border: 1px dashed var(--sklearn-color-line);\n",
       "  margin: 0 0.4em 0.5em 0.4em;\n",
       "  box-sizing: border-box;\n",
       "  padding-bottom: 0.4em;\n",
       "  background-color: var(--sklearn-color-background);\n",
       "}\n",
       "\n",
       "#sk-container-id-2 div.sk-container {\n",
       "  /* jupyter's `normalize.less` sets `[hidden] { display: none; }`\n",
       "     but bootstrap.min.css set `[hidden] { display: none !important; }`\n",
       "     so we also need the `!important` here to be able to override the\n",
       "     default hidden behavior on the sphinx rendered scikit-learn.org.\n",
       "     See: https://github.com/scikit-learn/scikit-learn/issues/21755 */\n",
       "  display: inline-block !important;\n",
       "  position: relative;\n",
       "}\n",
       "\n",
       "#sk-container-id-2 div.sk-text-repr-fallback {\n",
       "  display: none;\n",
       "}\n",
       "\n",
       "div.sk-parallel-item,\n",
       "div.sk-serial,\n",
       "div.sk-item {\n",
       "  /* draw centered vertical line to link estimators */\n",
       "  background-image: linear-gradient(var(--sklearn-color-text-on-default-background), var(--sklearn-color-text-on-default-background));\n",
       "  background-size: 2px 100%;\n",
       "  background-repeat: no-repeat;\n",
       "  background-position: center center;\n",
       "}\n",
       "\n",
       "/* Parallel-specific style estimator block */\n",
       "\n",
       "#sk-container-id-2 div.sk-parallel-item::after {\n",
       "  content: \"\";\n",
       "  width: 100%;\n",
       "  border-bottom: 2px solid var(--sklearn-color-text-on-default-background);\n",
       "  flex-grow: 1;\n",
       "}\n",
       "\n",
       "#sk-container-id-2 div.sk-parallel {\n",
       "  display: flex;\n",
       "  align-items: stretch;\n",
       "  justify-content: center;\n",
       "  background-color: var(--sklearn-color-background);\n",
       "  position: relative;\n",
       "}\n",
       "\n",
       "#sk-container-id-2 div.sk-parallel-item {\n",
       "  display: flex;\n",
       "  flex-direction: column;\n",
       "}\n",
       "\n",
       "#sk-container-id-2 div.sk-parallel-item:first-child::after {\n",
       "  align-self: flex-end;\n",
       "  width: 50%;\n",
       "}\n",
       "\n",
       "#sk-container-id-2 div.sk-parallel-item:last-child::after {\n",
       "  align-self: flex-start;\n",
       "  width: 50%;\n",
       "}\n",
       "\n",
       "#sk-container-id-2 div.sk-parallel-item:only-child::after {\n",
       "  width: 0;\n",
       "}\n",
       "\n",
       "/* Serial-specific style estimator block */\n",
       "\n",
       "#sk-container-id-2 div.sk-serial {\n",
       "  display: flex;\n",
       "  flex-direction: column;\n",
       "  align-items: center;\n",
       "  background-color: var(--sklearn-color-background);\n",
       "  padding-right: 1em;\n",
       "  padding-left: 1em;\n",
       "}\n",
       "\n",
       "\n",
       "/* Toggleable style: style used for estimator/Pipeline/ColumnTransformer box that is\n",
       "clickable and can be expanded/collapsed.\n",
       "- Pipeline and ColumnTransformer use this feature and define the default style\n",
       "- Estimators will overwrite some part of the style using the `sk-estimator` class\n",
       "*/\n",
       "\n",
       "/* Pipeline and ColumnTransformer style (default) */\n",
       "\n",
       "#sk-container-id-2 div.sk-toggleable {\n",
       "  /* Default theme specific background. It is overwritten whether we have a\n",
       "  specific estimator or a Pipeline/ColumnTransformer */\n",
       "  background-color: var(--sklearn-color-background);\n",
       "}\n",
       "\n",
       "/* Toggleable label */\n",
       "#sk-container-id-2 label.sk-toggleable__label {\n",
       "  cursor: pointer;\n",
       "  display: flex;\n",
       "  width: 100%;\n",
       "  margin-bottom: 0;\n",
       "  padding: 0.5em;\n",
       "  box-sizing: border-box;\n",
       "  text-align: center;\n",
       "  align-items: start;\n",
       "  justify-content: space-between;\n",
       "  gap: 0.5em;\n",
       "}\n",
       "\n",
       "#sk-container-id-2 label.sk-toggleable__label .caption {\n",
       "  font-size: 0.6rem;\n",
       "  font-weight: lighter;\n",
       "  color: var(--sklearn-color-text-muted);\n",
       "}\n",
       "\n",
       "#sk-container-id-2 label.sk-toggleable__label-arrow:before {\n",
       "  /* Arrow on the left of the label */\n",
       "  content: \"▸\";\n",
       "  float: left;\n",
       "  margin-right: 0.25em;\n",
       "  color: var(--sklearn-color-icon);\n",
       "}\n",
       "\n",
       "#sk-container-id-2 label.sk-toggleable__label-arrow:hover:before {\n",
       "  color: var(--sklearn-color-text);\n",
       "}\n",
       "\n",
       "/* Toggleable content - dropdown */\n",
       "\n",
       "#sk-container-id-2 div.sk-toggleable__content {\n",
       "  display: none;\n",
       "  text-align: left;\n",
       "  /* unfitted */\n",
       "  background-color: var(--sklearn-color-unfitted-level-0);\n",
       "}\n",
       "\n",
       "#sk-container-id-2 div.sk-toggleable__content.fitted {\n",
       "  /* fitted */\n",
       "  background-color: var(--sklearn-color-fitted-level-0);\n",
       "}\n",
       "\n",
       "#sk-container-id-2 div.sk-toggleable__content pre {\n",
       "  margin: 0.2em;\n",
       "  border-radius: 0.25em;\n",
       "  color: var(--sklearn-color-text);\n",
       "  /* unfitted */\n",
       "  background-color: var(--sklearn-color-unfitted-level-0);\n",
       "}\n",
       "\n",
       "#sk-container-id-2 div.sk-toggleable__content.fitted pre {\n",
       "  /* unfitted */\n",
       "  background-color: var(--sklearn-color-fitted-level-0);\n",
       "}\n",
       "\n",
       "#sk-container-id-2 input.sk-toggleable__control:checked~div.sk-toggleable__content {\n",
       "  /* Expand drop-down */\n",
       "  display: block;\n",
       "  width: 100%;\n",
       "  overflow: visible;\n",
       "}\n",
       "\n",
       "#sk-container-id-2 input.sk-toggleable__control:checked~label.sk-toggleable__label-arrow:before {\n",
       "  content: \"▾\";\n",
       "}\n",
       "\n",
       "/* Pipeline/ColumnTransformer-specific style */\n",
       "\n",
       "#sk-container-id-2 div.sk-label input.sk-toggleable__control:checked~label.sk-toggleable__label {\n",
       "  color: var(--sklearn-color-text);\n",
       "  background-color: var(--sklearn-color-unfitted-level-2);\n",
       "}\n",
       "\n",
       "#sk-container-id-2 div.sk-label.fitted input.sk-toggleable__control:checked~label.sk-toggleable__label {\n",
       "  background-color: var(--sklearn-color-fitted-level-2);\n",
       "}\n",
       "\n",
       "/* Estimator-specific style */\n",
       "\n",
       "/* Colorize estimator box */\n",
       "#sk-container-id-2 div.sk-estimator input.sk-toggleable__control:checked~label.sk-toggleable__label {\n",
       "  /* unfitted */\n",
       "  background-color: var(--sklearn-color-unfitted-level-2);\n",
       "}\n",
       "\n",
       "#sk-container-id-2 div.sk-estimator.fitted input.sk-toggleable__control:checked~label.sk-toggleable__label {\n",
       "  /* fitted */\n",
       "  background-color: var(--sklearn-color-fitted-level-2);\n",
       "}\n",
       "\n",
       "#sk-container-id-2 div.sk-label label.sk-toggleable__label,\n",
       "#sk-container-id-2 div.sk-label label {\n",
       "  /* The background is the default theme color */\n",
       "  color: var(--sklearn-color-text-on-default-background);\n",
       "}\n",
       "\n",
       "/* On hover, darken the color of the background */\n",
       "#sk-container-id-2 div.sk-label:hover label.sk-toggleable__label {\n",
       "  color: var(--sklearn-color-text);\n",
       "  background-color: var(--sklearn-color-unfitted-level-2);\n",
       "}\n",
       "\n",
       "/* Label box, darken color on hover, fitted */\n",
       "#sk-container-id-2 div.sk-label.fitted:hover label.sk-toggleable__label.fitted {\n",
       "  color: var(--sklearn-color-text);\n",
       "  background-color: var(--sklearn-color-fitted-level-2);\n",
       "}\n",
       "\n",
       "/* Estimator label */\n",
       "\n",
       "#sk-container-id-2 div.sk-label label {\n",
       "  font-family: monospace;\n",
       "  font-weight: bold;\n",
       "  display: inline-block;\n",
       "  line-height: 1.2em;\n",
       "}\n",
       "\n",
       "#sk-container-id-2 div.sk-label-container {\n",
       "  text-align: center;\n",
       "}\n",
       "\n",
       "/* Estimator-specific */\n",
       "#sk-container-id-2 div.sk-estimator {\n",
       "  font-family: monospace;\n",
       "  border: 1px dotted var(--sklearn-color-border-box);\n",
       "  border-radius: 0.25em;\n",
       "  box-sizing: border-box;\n",
       "  margin-bottom: 0.5em;\n",
       "  /* unfitted */\n",
       "  background-color: var(--sklearn-color-unfitted-level-0);\n",
       "}\n",
       "\n",
       "#sk-container-id-2 div.sk-estimator.fitted {\n",
       "  /* fitted */\n",
       "  background-color: var(--sklearn-color-fitted-level-0);\n",
       "}\n",
       "\n",
       "/* on hover */\n",
       "#sk-container-id-2 div.sk-estimator:hover {\n",
       "  /* unfitted */\n",
       "  background-color: var(--sklearn-color-unfitted-level-2);\n",
       "}\n",
       "\n",
       "#sk-container-id-2 div.sk-estimator.fitted:hover {\n",
       "  /* fitted */\n",
       "  background-color: var(--sklearn-color-fitted-level-2);\n",
       "}\n",
       "\n",
       "/* Specification for estimator info (e.g. \"i\" and \"?\") */\n",
       "\n",
       "/* Common style for \"i\" and \"?\" */\n",
       "\n",
       ".sk-estimator-doc-link,\n",
       "a:link.sk-estimator-doc-link,\n",
       "a:visited.sk-estimator-doc-link {\n",
       "  float: right;\n",
       "  font-size: smaller;\n",
       "  line-height: 1em;\n",
       "  font-family: monospace;\n",
       "  background-color: var(--sklearn-color-background);\n",
       "  border-radius: 1em;\n",
       "  height: 1em;\n",
       "  width: 1em;\n",
       "  text-decoration: none !important;\n",
       "  margin-left: 0.5em;\n",
       "  text-align: center;\n",
       "  /* unfitted */\n",
       "  border: var(--sklearn-color-unfitted-level-1) 1pt solid;\n",
       "  color: var(--sklearn-color-unfitted-level-1);\n",
       "}\n",
       "\n",
       ".sk-estimator-doc-link.fitted,\n",
       "a:link.sk-estimator-doc-link.fitted,\n",
       "a:visited.sk-estimator-doc-link.fitted {\n",
       "  /* fitted */\n",
       "  border: var(--sklearn-color-fitted-level-1) 1pt solid;\n",
       "  color: var(--sklearn-color-fitted-level-1);\n",
       "}\n",
       "\n",
       "/* On hover */\n",
       "div.sk-estimator:hover .sk-estimator-doc-link:hover,\n",
       ".sk-estimator-doc-link:hover,\n",
       "div.sk-label-container:hover .sk-estimator-doc-link:hover,\n",
       ".sk-estimator-doc-link:hover {\n",
       "  /* unfitted */\n",
       "  background-color: var(--sklearn-color-unfitted-level-3);\n",
       "  color: var(--sklearn-color-background);\n",
       "  text-decoration: none;\n",
       "}\n",
       "\n",
       "div.sk-estimator.fitted:hover .sk-estimator-doc-link.fitted:hover,\n",
       ".sk-estimator-doc-link.fitted:hover,\n",
       "div.sk-label-container:hover .sk-estimator-doc-link.fitted:hover,\n",
       ".sk-estimator-doc-link.fitted:hover {\n",
       "  /* fitted */\n",
       "  background-color: var(--sklearn-color-fitted-level-3);\n",
       "  color: var(--sklearn-color-background);\n",
       "  text-decoration: none;\n",
       "}\n",
       "\n",
       "/* Span, style for the box shown on hovering the info icon */\n",
       ".sk-estimator-doc-link span {\n",
       "  display: none;\n",
       "  z-index: 9999;\n",
       "  position: relative;\n",
       "  font-weight: normal;\n",
       "  right: .2ex;\n",
       "  padding: .5ex;\n",
       "  margin: .5ex;\n",
       "  width: min-content;\n",
       "  min-width: 20ex;\n",
       "  max-width: 50ex;\n",
       "  color: var(--sklearn-color-text);\n",
       "  box-shadow: 2pt 2pt 4pt #999;\n",
       "  /* unfitted */\n",
       "  background: var(--sklearn-color-unfitted-level-0);\n",
       "  border: .5pt solid var(--sklearn-color-unfitted-level-3);\n",
       "}\n",
       "\n",
       ".sk-estimator-doc-link.fitted span {\n",
       "  /* fitted */\n",
       "  background: var(--sklearn-color-fitted-level-0);\n",
       "  border: var(--sklearn-color-fitted-level-3);\n",
       "}\n",
       "\n",
       ".sk-estimator-doc-link:hover span {\n",
       "  display: block;\n",
       "}\n",
       "\n",
       "/* \"?\"-specific style due to the `<a>` HTML tag */\n",
       "\n",
       "#sk-container-id-2 a.estimator_doc_link {\n",
       "  float: right;\n",
       "  font-size: 1rem;\n",
       "  line-height: 1em;\n",
       "  font-family: monospace;\n",
       "  background-color: var(--sklearn-color-background);\n",
       "  border-radius: 1rem;\n",
       "  height: 1rem;\n",
       "  width: 1rem;\n",
       "  text-decoration: none;\n",
       "  /* unfitted */\n",
       "  color: var(--sklearn-color-unfitted-level-1);\n",
       "  border: var(--sklearn-color-unfitted-level-1) 1pt solid;\n",
       "}\n",
       "\n",
       "#sk-container-id-2 a.estimator_doc_link.fitted {\n",
       "  /* fitted */\n",
       "  border: var(--sklearn-color-fitted-level-1) 1pt solid;\n",
       "  color: var(--sklearn-color-fitted-level-1);\n",
       "}\n",
       "\n",
       "/* On hover */\n",
       "#sk-container-id-2 a.estimator_doc_link:hover {\n",
       "  /* unfitted */\n",
       "  background-color: var(--sklearn-color-unfitted-level-3);\n",
       "  color: var(--sklearn-color-background);\n",
       "  text-decoration: none;\n",
       "}\n",
       "\n",
       "#sk-container-id-2 a.estimator_doc_link.fitted:hover {\n",
       "  /* fitted */\n",
       "  background-color: var(--sklearn-color-fitted-level-3);\n",
       "}\n",
       "\n",
       ".estimator-table summary {\n",
       "    padding: .5rem;\n",
       "    font-family: monospace;\n",
       "    cursor: pointer;\n",
       "}\n",
       "\n",
       ".estimator-table details[open] {\n",
       "    padding-left: 0.1rem;\n",
       "    padding-right: 0.1rem;\n",
       "    padding-bottom: 0.3rem;\n",
       "}\n",
       "\n",
       ".estimator-table .parameters-table {\n",
       "    margin-left: auto !important;\n",
       "    margin-right: auto !important;\n",
       "}\n",
       "\n",
       ".estimator-table .parameters-table tr:nth-child(odd) {\n",
       "    background-color: #fff;\n",
       "}\n",
       "\n",
       ".estimator-table .parameters-table tr:nth-child(even) {\n",
       "    background-color: #f6f6f6;\n",
       "}\n",
       "\n",
       ".estimator-table .parameters-table tr:hover {\n",
       "    background-color: #e0e0e0;\n",
       "}\n",
       "\n",
       ".estimator-table table td {\n",
       "    border: 1px solid rgba(106, 105, 104, 0.232);\n",
       "}\n",
       "\n",
       ".user-set td {\n",
       "    color:rgb(255, 94, 0);\n",
       "    text-align: left;\n",
       "}\n",
       "\n",
       ".user-set td.value pre {\n",
       "    color:rgb(255, 94, 0) !important;\n",
       "    background-color: transparent !important;\n",
       "}\n",
       "\n",
       ".default td {\n",
       "    color: black;\n",
       "    text-align: left;\n",
       "}\n",
       "\n",
       ".user-set td i,\n",
       ".default td i {\n",
       "    color: black;\n",
       "}\n",
       "\n",
       ".copy-paste-icon {\n",
       "    background-image: url(data:image/svg+xml;base64,PHN2ZyB4bWxucz0iaHR0cDovL3d3dy53My5vcmcvMjAwMC9zdmciIHZpZXdCb3g9IjAgMCA0NDggNTEyIj48IS0tIUZvbnQgQXdlc29tZSBGcmVlIDYuNy4yIGJ5IEBmb250YXdlc29tZSAtIGh0dHBzOi8vZm9udGF3ZXNvbWUuY29tIExpY2Vuc2UgLSBodHRwczovL2ZvbnRhd2Vzb21lLmNvbS9saWNlbnNlL2ZyZWUgQ29weXJpZ2h0IDIwMjUgRm9udGljb25zLCBJbmMuLS0+PHBhdGggZD0iTTIwOCAwTDMzMi4xIDBjMTIuNyAwIDI0LjkgNS4xIDMzLjkgMTQuMWw2Ny45IDY3LjljOSA5IDE0LjEgMjEuMiAxNC4xIDMzLjlMNDQ4IDMzNmMwIDI2LjUtMjEuNSA0OC00OCA0OGwtMTkyIDBjLTI2LjUgMC00OC0yMS41LTQ4LTQ4bDAtMjg4YzAtMjYuNSAyMS41LTQ4IDQ4LTQ4ek00OCAxMjhsODAgMCAwIDY0LTY0IDAgMCAyNTYgMTkyIDAgMC0zMiA2NCAwIDAgNDhjMCAyNi41LTIxLjUgNDgtNDggNDhMNDggNTEyYy0yNi41IDAtNDgtMjEuNS00OC00OEwwIDE3NmMwLTI2LjUgMjEuNS00OCA0OC00OHoiLz48L3N2Zz4=);\n",
       "    background-repeat: no-repeat;\n",
       "    background-size: 14px 14px;\n",
       "    background-position: 0;\n",
       "    display: inline-block;\n",
       "    width: 14px;\n",
       "    height: 14px;\n",
       "    cursor: pointer;\n",
       "}\n",
       "</style><body><div id=\"sk-container-id-2\" class=\"sk-top-container\"><div class=\"sk-text-repr-fallback\"><pre>MultinomialNB()</pre><b>In a Jupyter environment, please rerun this cell to show the HTML representation or trust the notebook. <br />On GitHub, the HTML representation is unable to render, please try loading this page with nbviewer.org.</b></div><div class=\"sk-container\" hidden><div class=\"sk-item\"><div class=\"sk-estimator fitted sk-toggleable\"><input class=\"sk-toggleable__control sk-hidden--visually\" id=\"sk-estimator-id-2\" type=\"checkbox\" checked><label for=\"sk-estimator-id-2\" class=\"sk-toggleable__label fitted sk-toggleable__label-arrow\"><div><div>MultinomialNB</div></div><div><a class=\"sk-estimator-doc-link fitted\" rel=\"noreferrer\" target=\"_blank\" href=\"https://scikit-learn.org/1.7/modules/generated/sklearn.naive_bayes.MultinomialNB.html\">?<span>Documentation for MultinomialNB</span></a><span class=\"sk-estimator-doc-link fitted\">i<span>Fitted</span></span></div></label><div class=\"sk-toggleable__content fitted\" data-param-prefix=\"\">\n",
       "        <div class=\"estimator-table\">\n",
       "            <details>\n",
       "                <summary>Parameters</summary>\n",
       "                <table class=\"parameters-table\">\n",
       "                  <tbody>\n",
       "                    \n",
       "        <tr class=\"default\">\n",
       "            <td><i class=\"copy-paste-icon\"\n",
       "                 onclick=\"copyToClipboard('alpha',\n",
       "                          this.parentElement.nextElementSibling)\"\n",
       "            ></i></td>\n",
       "            <td class=\"param\">alpha&nbsp;</td>\n",
       "            <td class=\"value\">1.0</td>\n",
       "        </tr>\n",
       "    \n",
       "\n",
       "        <tr class=\"default\">\n",
       "            <td><i class=\"copy-paste-icon\"\n",
       "                 onclick=\"copyToClipboard('force_alpha',\n",
       "                          this.parentElement.nextElementSibling)\"\n",
       "            ></i></td>\n",
       "            <td class=\"param\">force_alpha&nbsp;</td>\n",
       "            <td class=\"value\">True</td>\n",
       "        </tr>\n",
       "    \n",
       "\n",
       "        <tr class=\"default\">\n",
       "            <td><i class=\"copy-paste-icon\"\n",
       "                 onclick=\"copyToClipboard('fit_prior',\n",
       "                          this.parentElement.nextElementSibling)\"\n",
       "            ></i></td>\n",
       "            <td class=\"param\">fit_prior&nbsp;</td>\n",
       "            <td class=\"value\">True</td>\n",
       "        </tr>\n",
       "    \n",
       "\n",
       "        <tr class=\"default\">\n",
       "            <td><i class=\"copy-paste-icon\"\n",
       "                 onclick=\"copyToClipboard('class_prior',\n",
       "                          this.parentElement.nextElementSibling)\"\n",
       "            ></i></td>\n",
       "            <td class=\"param\">class_prior&nbsp;</td>\n",
       "            <td class=\"value\">None</td>\n",
       "        </tr>\n",
       "    \n",
       "                  </tbody>\n",
       "                </table>\n",
       "            </details>\n",
       "        </div>\n",
       "    </div></div></div></div></div><script>function copyToClipboard(text, element) {\n",
       "    // Get the parameter prefix from the closest toggleable content\n",
       "    const toggleableContent = element.closest('.sk-toggleable__content');\n",
       "    const paramPrefix = toggleableContent ? toggleableContent.dataset.paramPrefix : '';\n",
       "    const fullParamName = paramPrefix ? `${paramPrefix}${text}` : text;\n",
       "\n",
       "    const originalStyle = element.style;\n",
       "    const computedStyle = window.getComputedStyle(element);\n",
       "    const originalWidth = computedStyle.width;\n",
       "    const originalHTML = element.innerHTML.replace('Copied!', '');\n",
       "\n",
       "    navigator.clipboard.writeText(fullParamName)\n",
       "        .then(() => {\n",
       "            element.style.width = originalWidth;\n",
       "            element.style.color = 'green';\n",
       "            element.innerHTML = \"Copied!\";\n",
       "\n",
       "            setTimeout(() => {\n",
       "                element.innerHTML = originalHTML;\n",
       "                element.style = originalStyle;\n",
       "            }, 2000);\n",
       "        })\n",
       "        .catch(err => {\n",
       "            console.error('Failed to copy:', err);\n",
       "            element.style.color = 'red';\n",
       "            element.innerHTML = \"Failed!\";\n",
       "            setTimeout(() => {\n",
       "                element.innerHTML = originalHTML;\n",
       "                element.style = originalStyle;\n",
       "            }, 2000);\n",
       "        });\n",
       "    return false;\n",
       "}\n",
       "\n",
       "document.querySelectorAll('.fa-regular.fa-copy').forEach(function(element) {\n",
       "    const toggleableContent = element.closest('.sk-toggleable__content');\n",
       "    const paramPrefix = toggleableContent ? toggleableContent.dataset.paramPrefix : '';\n",
       "    const paramName = element.parentElement.nextElementSibling.textContent.trim();\n",
       "    const fullParamName = paramPrefix ? `${paramPrefix}${paramName}` : paramName;\n",
       "\n",
       "    element.setAttribute('title', fullParamName);\n",
       "});\n",
       "</script></body>"
      ],
      "text/plain": [
       "MultinomialNB()"
      ]
     },
     "execution_count": 78,
     "metadata": {},
     "output_type": "execute_result"
    }
   ],
   "source": [
    "# use MultinomialNB instead of BernoulliNB\n",
    "from sklearn.naive_bayes import MultinomialNB\n",
    "clf_base = MultinomialNB(alpha=1.0, fit_prior=True)\n",
    "clf_base.fit(X_train, Y_train)"
   ]
  },
  {
   "cell_type": "code",
   "execution_count": 79,
   "id": "da704549",
   "metadata": {},
   "outputs": [
    {
     "name": "stdout",
     "output_type": "stream",
     "text": [
      "[[0.48177317 0.51822683]\n",
      " [0.33269072 0.66730928]\n",
      " [0.52784562 0.47215438]\n",
      " [0.33334713 0.66665287]\n",
      " [0.52643477 0.47356523]\n",
      " [0.48093174 0.51906826]\n",
      " [0.47862179 0.52137821]\n",
      " [0.36366628 0.63633372]\n",
      " [0.36393399 0.63606601]\n",
      " [0.32507548 0.67492452]]\n"
     ]
    }
   ],
   "source": [
    "prediction_prob = clf_base.predict_proba(X_test)\n",
    "print(prediction_prob[0:10])"
   ]
  },
  {
   "cell_type": "code",
   "execution_count": 80,
   "id": "7991039b",
   "metadata": {},
   "outputs": [
    {
     "name": "stdout",
     "output_type": "stream",
     "text": [
      "[1 1 0 1 0 1 1 1 1 1]\n"
     ]
    }
   ],
   "source": [
    "prediction = clf_base.predict(X_test)\n",
    "print(prediction[:10])"
   ]
  },
  {
   "cell_type": "code",
   "execution_count": 81,
   "id": "7922cb3c",
   "metadata": {},
   "outputs": [
    {
     "name": "stdout",
     "output_type": "stream",
     "text": [
      "The accuracy is: 58.4%\n"
     ]
    }
   ],
   "source": [
    "accuracy = clf_base.score(X_test, Y_test)\n",
    "print(f'The accuracy is: {accuracy*100:.1f}%')"
   ]
  },
  {
   "cell_type": "code",
   "execution_count": 82,
   "id": "fde6f39e",
   "metadata": {},
   "outputs": [
    {
     "data": {
      "text/plain": [
       "like\n",
       "1    0.575161\n",
       "0    0.424839\n",
       "Name: proportion, dtype: float64"
      ]
     },
     "execution_count": 82,
     "metadata": {},
     "output_type": "execute_result"
    }
   ],
   "source": [
    "y.value_counts(normalize=True)\n"
   ]
  },
  {
   "cell_type": "markdown",
   "id": "79b07b5b",
   "metadata": {},
   "source": [
    "### VI. Evaluating classification performance"
   ]
  },
  {
   "cell_type": "code",
   "execution_count": 83,
   "id": "a4f48dd0",
   "metadata": {},
   "outputs": [
    {
     "name": "stdout",
     "output_type": "stream",
     "text": [
      "[[26506 58374]\n",
      " [24924 90238]]\n"
     ]
    }
   ],
   "source": [
    "from sklearn.metrics import confusion_matrix\n",
    "print(confusion_matrix(Y_test, prediction, labels=[0, 1]))"
   ]
  },
  {
   "cell_type": "code",
   "execution_count": 84,
   "id": "c10c8e16",
   "metadata": {},
   "outputs": [
    {
     "name": "stdout",
     "output_type": "stream",
     "text": [
      "Precision: 0.6072053400802089\n",
      "Recall: 0.7835744429586148\n",
      "F1 Score: 0.6842069347244232\n"
     ]
    }
   ],
   "source": [
    "from sklearn.metrics import precision_score, recall_score, f1_score\n",
    "\n",
    "print(\"Precision:\", precision_score(Y_test, prediction, pos_label=1))\n",
    "print(\"Recall:\", recall_score(Y_test, prediction, pos_label=1))\n",
    "print(\"F1 Score:\", f1_score(Y_test, prediction, pos_label=1))"
   ]
  },
  {
   "cell_type": "code",
   "execution_count": 85,
   "id": "ffcfcacd",
   "metadata": {},
   "outputs": [
    {
     "data": {
      "text/plain": [
       "0.3889076370038882"
      ]
     },
     "execution_count": 85,
     "metadata": {},
     "output_type": "execute_result"
    }
   ],
   "source": [
    "# the negative (dislike) class can also be viewed as positive\n",
    "# assign the 0 class as pos_label and we have the following\n",
    "f1_score(Y_test, prediction, pos_label=0)"
   ]
  },
  {
   "cell_type": "code",
   "execution_count": 86,
   "id": "72cd17de",
   "metadata": {},
   "outputs": [
    {
     "name": "stdout",
     "output_type": "stream",
     "text": [
      "              precision    recall  f1-score   support\n",
      "\n",
      "           0       0.52      0.31      0.39     84880\n",
      "           1       0.61      0.78      0.68    115162\n",
      "\n",
      "    accuracy                           0.58    200042\n",
      "   macro avg       0.56      0.55      0.54    200042\n",
      "weighted avg       0.57      0.58      0.56    200042\n",
      "\n"
     ]
    }
   ],
   "source": [
    "# classification report\n",
    "from sklearn.metrics import classification_report\n",
    "report = classification_report(Y_test, prediction)\n",
    "print(report)"
   ]
  },
  {
   "cell_type": "code",
   "execution_count": 87,
   "id": "1405249b",
   "metadata": {},
   "outputs": [],
   "source": [
    "pos_prob = prediction_prob[:, 1]\n",
    "thresholds = np.arange(0.0, 1.1, 0.05)\n",
    "true_pos, false_pos = [0]*len(thresholds), [0]*len(thresholds)\n",
    "for pred, y_true in zip(pos_prob, Y_test):\n",
    "    for i, threshold in enumerate(thresholds):\n",
    "        if pred >= threshold:\n",
    "            # if truth and prediction are both 1\n",
    "            if y_true == 1:\n",
    "                true_pos[i] += 1\n",
    "            # if truth is 0 while prediction is 1\n",
    "            else:\n",
    "                false_pos[i] += 1\n",
    "        else:\n",
    "            break\n"
   ]
  },
  {
   "cell_type": "code",
   "execution_count": 88,
   "id": "ddbfcce2",
   "metadata": {},
   "outputs": [],
   "source": [
    "n_pos_test = (Y_test == 1).sum()\n",
    "n_neg_test = (Y_test == 0).sum()\n",
    "true_pos_rate = [tp / n_pos_test for tp in true_pos]\n",
    "false_pos_rate = [fp / n_neg_test for fp in false_pos]"
   ]
  },
  {
   "cell_type": "code",
   "execution_count": 89,
   "id": "14068d2d",
   "metadata": {},
   "outputs": [
    {
     "name": "stderr",
     "output_type": "stream",
     "text": [
      "/var/folders/_x/1_vgy5852g7ctfxwwlkb1ks00000gn/T/ipykernel_52030/4072969516.py:10: UserWarning: No artists with labels found to put in legend.  Note that artists whose label start with an underscore are ignored when legend() is called with no argument.\n",
      "  plt.legend(loc=\"lower right\")\n"
     ]
    },
    {
     "data": {
      "image/png": "[encoded data removed]",
      "text/plain": [
       "<Figure size 640x480 with 1 Axes>"
      ]
     },
     "metadata": {},
     "output_type": "display_data"
    }
   ],
   "source": [
    "plt.figure()\n",
    "lw = 2\n",
    "plt.plot(false_pos_rate, true_pos_rate, color='darkorange', lw=lw)\n",
    "plt.plot([0, 1], [0, 1], color='navy', lw=lw, linestyle='--')\n",
    "plt.xlim([0.0, 1.0])\n",
    "plt.ylim([0.0, 1.05])\n",
    "plt.xlabel('False Positive Rate')\n",
    "plt.ylabel('True Positive Rate')\n",
    "plt.title('Receiver Operating Characteristic')\n",
    "plt.legend(loc=\"lower right\")\n",
    "plt.show()\n"
   ]
  },
  {
   "cell_type": "code",
   "execution_count": 90,
   "id": "84acc6be",
   "metadata": {},
   "outputs": [
    {
     "data": {
      "text/plain": [
       "0.5924251470075977"
      ]
     },
     "execution_count": 90,
     "metadata": {},
     "output_type": "execute_result"
    }
   ],
   "source": [
    "from sklearn.metrics import roc_auc_score\n",
    "roc_auc_score(Y_test, pos_prob)"
   ]
  },
  {
   "cell_type": "markdown",
   "id": "76104123",
   "metadata": {},
   "source": [
    "### VII. Tuning models with cross-validation"
   ]
  },
  {
   "cell_type": "code",
   "execution_count": 91,
   "id": "1ea0c5b5",
   "metadata": {},
   "outputs": [],
   "source": [
    "from sklearn.model_selection import StratifiedKFold\n",
    "k = 5\n",
    "k_fold = StratifiedKFold(n_splits=k, shuffle=True, random_state=42)"
   ]
  },
  {
   "cell_type": "code",
   "execution_count": 92,
   "id": "a47aa3ab",
   "metadata": {},
   "outputs": [],
   "source": [
    "smoothing_factor_option = [1, 2, 3, 4, 5, 6]\n",
    "fit_prior_option = [True, False]"
   ]
  },
  {
   "cell_type": "code",
   "execution_count": 93,
   "id": "390cce29",
   "metadata": {},
   "outputs": [
    {
     "name": "stdout",
     "output_type": "stream",
     "text": [
      "\n",
      "Cross-validation Results (mean AUC):\n",
      "============================================================\n",
      "alpha=1   | fit_prior=True  | AUC=0.5940 ± 0.0008\n",
      "alpha=1   | fit_prior=False | AUC=0.5940 ± 0.0008\n",
      "alpha=2   | fit_prior=True  | AUC=0.5940 ± 0.0008\n",
      "alpha=2   | fit_prior=False | AUC=0.5940 ± 0.0008\n",
      "alpha=3   | fit_prior=True  | AUC=0.5940 ± 0.0008\n",
      "alpha=3   | fit_prior=False | AUC=0.5940 ± 0.0008\n",
      "alpha=4   | fit_prior=True  | AUC=0.5940 ± 0.0008\n",
      "alpha=4   | fit_prior=False | AUC=0.5940 ± 0.0008\n",
      "alpha=5   | fit_prior=True  | AUC=0.5940 ± 0.0008\n",
      "alpha=5   | fit_prior=False | AUC=0.5940 ± 0.0008\n",
      "alpha=6   | fit_prior=True  | AUC=0.5940 ± 0.0008\n",
      "alpha=6   | fit_prior=False | AUC=0.5940 ± 0.0008\n"
     ]
    }
   ],
   "source": [
    "from sklearn.naive_bayes import MultinomialNB\n",
    "from sklearn.metrics import roc_auc_score\n",
    "\n",
    "# Convert to numpy arrays if needed\n",
    "X_array = X.values if hasattr(X, 'values') else X\n",
    "y_array = np.ravel(y) if hasattr(y, 'values') or not isinstance(y, np.ndarray) else y\n",
    "\n",
    "# Track AUC for each combination across folds (initialize outside loop)\n",
    "auc_record = {(alpha, fit_prior): [] for alpha in smoothing_factor_option for fit_prior in fit_prior_option}\n",
    "\n",
    "for train_indices, test_indices in k_fold.split(X_array, y_array):\n",
    "    X_train_k, X_test_k = X_array[train_indices], X_array[test_indices]\n",
    "    Y_train_k, Y_test_k = y_array[train_indices], y_array[test_indices]\n",
    "    \n",
    "    for alpha in smoothing_factor_option:\n",
    "        for fit_prior in fit_prior_option:\n",
    "            # Train and evaluate\n",
    "            clf = MultinomialNB(alpha=alpha, fit_prior=fit_prior)\n",
    "            clf.fit(X_train_k, Y_train_k)\n",
    "            prediction_prob = clf.predict_proba(X_test_k)\n",
    "            pos_prob = prediction_prob[:, 1]\n",
    "            auc = roc_auc_score(Y_test_k, pos_prob)\n",
    "            auc_record[(alpha, fit_prior)].append(auc)\n",
    "            \n",
    "# Average the results across folds\n",
    "print(\"\\nCross-validation Results (mean AUC):\")\n",
    "print(\"=\" * 60)\n",
    "for alpha in smoothing_factor_option:\n",
    "    for fit_prior in fit_prior_option:\n",
    "        key = (alpha, fit_prior)\n",
    "        mean_auc = np.mean(auc_record[key])\n",
    "        std_auc = np.std(auc_record[key])\n",
    "        print(f\"alpha={alpha:<3} | fit_prior={str(fit_prior):<5} | AUC={mean_auc:.4f} ± {std_auc:.4f}\")\n"
   ]
  },
  {
   "cell_type": "code",
   "execution_count": 94,
   "id": "484a7147",
   "metadata": {},
   "outputs": [
    {
     "data": {
      "text/plain": [
       "like\n",
       "1    0.575161\n",
       "0    0.424839\n",
       "Name: proportion, dtype: float64"
      ]
     },
     "execution_count": 94,
     "metadata": {},
     "output_type": "execute_result"
    }
   ],
   "source": [
    "y.value_counts(normalize=True)"
   ]
  }
 ],
 "metadata": {
  "kernelspec": {
   "display_name": "Python 3",
   "language": "python",
   "name": "python3"
  },
  "language_info": {
   "codemirror_mode": {
    "name": "ipython",
    "version": 3
   },
   "file_extension": ".py",
   "mimetype": "text/x-python",
   "name": "python",
   "nbconvert_exporter": "python",
   "pygments_lexer": "ipython3",
   "version": "3.12.2"
  }
 },
 "nbformat": 4,
 "nbformat_minor": 5
}
